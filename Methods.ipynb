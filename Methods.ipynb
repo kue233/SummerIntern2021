{
 "cells": [
  {
   "cell_type": "code",
   "execution_count": 2,
   "metadata": {},
   "outputs": [],
   "source": [
    "import plotly.express as px\n",
    "import plotly.graph_objects as go\n",
    "import datetime\n",
    "import pandas as pd\n",
    "import pandas_datareader as data\n",
    "import plotly.io as pio"
   ]
  },
  {
   "cell_type": "code",
   "execution_count": 3,
   "metadata": {},
   "outputs": [],
   "source": [
    "def makeList(str):\n",
    "    if str.__contains__(\" \") == False:\n",
    "        return [str]\n",
    "    \n",
    "    else:\n",
    "        return str.split()"
   ]
  },
  {
   "cell_type": "code",
   "execution_count": 60,
   "metadata": {},
   "outputs": [],
   "source": [
    "def createGraphs(user_input, start=None, end=None, y_value='High', graph_type = 'Line'):\n",
    "    title = \"\"\n",
    "    tickers = makeList(user_input)\n",
    "    \n",
    "        \n",
    "    if len(tickers) == 1:\n",
    "        d = data.DataReader(tickers[0],'yahoo', start, end)\n",
    "        \n",
    "        if graph_type == 'Line':\n",
    "            fig = px.line(d, y=y_value, template = 'plotly_dark', hover_data=d.columns)\n",
    "            \n",
    "        else:\n",
    "            fig = px.area(d, y=y_value, template = 'plotly_dark', hover_data=d.columns)\n",
    "\n",
    "\n",
    "    else:\n",
    "        if graph_type == 'Area':\n",
    "            graph_type = 'tonexty'\n",
    "        else:\n",
    "            graph_type = None\n",
    "        #create a list of databases \n",
    "        list = []\n",
    "        for x in tickers:\n",
    "            list.append(data.DataReader(x, 'yahoo', start, end))\n",
    "        \n",
    "        #plot each database 1 by 1 \n",
    "        fig = go.Figure()\n",
    "        for x in range(len(list)):\n",
    "            fig.add_trace(go.Scatter(x=list[x].index,y=list[x][y_value], name=tickers[x], fill=graph_type))\n",
    "            \n",
    "    #ending styling\n",
    "    for x in range(len(tickers)): \n",
    "        if x != len(tickers)-1:\n",
    "            title += (tickers[x] + \" \" + y_value + \" vs \")  \n",
    "        else:\n",
    "            title += (tickers[x] + \" \" + y_value) \n",
    "\n",
    "    fig.update_layout(title=title, title_x=0.5, template='plotly_dark')    \n",
    "    pio.write_html(fig, file='index.html', auto_open=False, full_html= False) "
   ]
  },
  {
   "cell_type": "code",
   "execution_count": 121,
   "metadata": {},
   "outputs": [],
   "source": [
    "class Graph:\n",
    "    \n",
    "    ticker = None \n",
    "    start = None \n",
    "    end = None \n",
    "    y_value = 'High'\n",
    "    graph_type = 'Line'\n",
    "    \n",
    "    def __init__(self, user_input, start = None, end = None, y_value = 'High', graph_type = 'Line'):\n",
    "        self.ticker = user_input\n",
    "        self.start = start \n",
    "        self.end = end\n",
    "        self.y_value = y_value\n",
    "        self.graph_type = graph_type\n",
    "    \n",
    "    def display(self):\n",
    "        createGraphs(self.ticker, self.start, self.end, self.y_value, self.graph_type) \n",
    "        \n",
    "    def changeUserInput(self, new):\n",
    "        self.ticker = new\n",
    "        self.display()\n",
    "        \n",
    "    def changeStart(self, new):\n",
    "        self.start = new\n",
    "        self.display()\n",
    "    \n",
    "    def changeEnd(self, new):\n",
    "        self.end = new\n",
    "        self.display()\n",
    "    \n",
    "    def changeGraphType(self, new):\n",
    "        self.graph_type = new\n",
    "        self.display()\n",
    "        \n",
    "    def change_yValue(self, new):\n",
    "        self.y_value = new\n",
    "        self.display()"
   ]
  }
 ],
 "metadata": {
  "kernelspec": {
   "display_name": "Python 3",
   "language": "python",
   "name": "python3"
  },
  "language_info": {
   "codemirror_mode": {
    "name": "ipython",
    "version": 3
   },
   "file_extension": ".py",
   "mimetype": "text/x-python",
   "name": "python",
   "nbconvert_exporter": "python",
   "pygments_lexer": "ipython3",
   "version": "3.8.5"
  }
 },
 "nbformat": 4,
 "nbformat_minor": 4
}
